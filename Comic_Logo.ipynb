{
 "cells": [
  {
   "cell_type": "code",
   "execution_count": null,
   "metadata": {
    "colab": {
     "base_uri": "https://localhost:8080/",
     "height": 406
    },
    "colab_type": "code",
    "id": "eRkBDpZ68dQ7",
    "outputId": "136e74af-d609-4c87-b682-e0b3b0c737c7"
   },
   "outputs": [],
   "source": [
    "!pip install tensorflow==2.0"
   ]
  },
  {
   "cell_type": "code",
   "execution_count": null,
   "metadata": {
    "colab": {
     "base_uri": "https://localhost:8080/",
     "height": 54
    },
    "colab_type": "code",
    "id": "ileS-if5hxeW",
    "outputId": "2f2c191c-bf32-4c74-96ab-1325100dec6d"
   },
   "outputs": [],
   "source": [
    "import cv2\n",
    "import os\n",
    "import numpy as np\n",
    "import tensorflow as tf\n",
    "import matplotlib.pyplot as plt\n",
    "from sklearn.utils import shuffle\n",
    "from tensorflow.keras import layers, models\n",
    "from google.colab import drive\n",
    "drive.mount('/content/drive')"
   ]
  },
  {
   "cell_type": "code",
   "execution_count": null,
   "metadata": {
    "colab": {
     "base_uri": "https://localhost:8080/",
     "height": 34
    },
    "colab_type": "code",
    "id": "mg8wQv5-iQXV",
    "outputId": "fdd9f71a-ffc9-4cc4-a624-3548fbbe1b18"
   },
   "outputs": [],
   "source": [
    "tf.__version__"
   ]
  },
  {
   "cell_type": "code",
   "execution_count": null,
   "metadata": {
    "colab": {},
    "colab_type": "code",
    "id": "DAMexAwYiT5g"
   },
   "outputs": [],
   "source": [
    "def loadTrain(trainPath, classes, imageSize):\n",
    "    images = []\n",
    "    cls = []\n",
    "    labels = []\n",
    "    imageNames = []\n",
    "\n",
    "    print(\"Reading Training Data\")\n",
    "    print(\"Path : \", trainPath)\n",
    "    print(\"classes : \", classes)\n",
    "    print(\"Image Size : \", imageSize)\n",
    "\n",
    "    for field in classes:\n",
    "\n",
    "        index = classes.index(field)\n",
    "        print(\"Index : \", index, \" Class : \", classes[index])\n",
    "        # index will act as label\n",
    "        # now build path to particular class\n",
    "        path = os.path.join(trainPath, field)\n",
    "        # now list all images in this folder\n",
    "        print(\"For class and path --> \", path)\n",
    "        for image in os.listdir(path):\n",
    "            cv_img = cv2.imread(os.path.join(path, image))\n",
    "            # resize\n",
    "            cv_img = cv2.resize(cv_img, (imageSize, imageSize))\n",
    "            cv_img = cv_img.astype(np.float64)\n",
    "            # normalize\n",
    "            cv_img = np.multiply(cv_img, 1.0 / 255.0)\n",
    "            images.append(cv_img)  # add to image list\n",
    "            # add label to image\n",
    "            label = index#np.zeros(len(classes))\n",
    "            #label[index] = 1.0  # one hot vector encoding\n",
    "            labels.append(label)  # label added to list\n",
    "            imbase = os.path.basename(image)  # base folder\n",
    "            imageNames.append(imbase)\n",
    "            cls.append(field)\n",
    "    # make all list numpy arrays\n",
    "    images = np.array(images)\n",
    "    labels = np.array(labels)\n",
    "    imageNames = np.array(imageNames)\n",
    "    cls = np.array(cls)\n",
    "\n",
    "    return images, labels, imageNames, cls\n",
    "\n",
    "\n",
    "class DataSet(object):\n",
    "\n",
    "    def __init__(self, images, labels, imageNames, cls):\n",
    "        self._num_examples = images.shape[0]\n",
    "\n",
    "        self._images = images\n",
    "        self._labels = labels\n",
    "        self._imageNames = imageNames\n",
    "        self._cls = cls\n",
    "        self._epochs_done = 0\n",
    "        self._index_in_epoch = 0\n",
    "\n",
    "    @property\n",
    "    def images(self):\n",
    "        return self._images\n",
    "\n",
    "    @property\n",
    "    def labels(self):\n",
    "        return self._labels\n",
    "\n",
    "    @property\n",
    "    def img_names(self):\n",
    "        return self._imageNames\n",
    "\n",
    "    @property\n",
    "    def cls(self):\n",
    "        return self._cls\n",
    "\n",
    "    @property\n",
    "    def num_examples(self):\n",
    "        return self._num_examples\n",
    "\n",
    "    @property\n",
    "    def epochs_done(self):\n",
    "        return self._epochs_done\n",
    "\n",
    "    def getData(self):\n",
    "        return self._images, self._labels, self._imageNames, self._cls\n",
    "\n",
    "    def next_batch(self, batch_size):\n",
    "        start = self._index_in_epoch\n",
    "        self._index_in_epoch += batch_size\n",
    "\n",
    "        if self._index_in_epoch > self._num_examples:\n",
    "            self._epochs_done += 1\n",
    "            start = 0\n",
    "            self._index_in_epoch = batch_size\n",
    "            assert batch_size <= self._num_examples\n",
    "        end = self._index_in_epoch\n",
    "\n",
    "        return self._images[start:end], self._labels[start:end], self._imageNames[start:end], self._cls[start:end]\n",
    "\n",
    "\n",
    "def readData(trainPath, classes, imageSize, validationSize):\n",
    "    class DataSets(object):\n",
    "        pass\n",
    "\n",
    "    data_sets = DataSets()\n",
    "\n",
    "    images, labels, imageNames, cls = loadTrain(trainPath, classes, imageSize)\n",
    "    images, labels, imageNames, cls = shuffle(images, labels, imageNames, cls)\n",
    "    if isinstance(validationSize, float):\n",
    "        validationSize = int(validationSize * images.shape[0])\n",
    "\n",
    "    validationImages = images[:validationSize]\n",
    "    validationLabels = labels[:validationSize]\n",
    "    validationImageNames = imageNames[:validationSize]\n",
    "    validationCls = cls[:validationSize]\n",
    "\n",
    "    trainImages = images[validationSize:]\n",
    "    trainLabels = labels[validationSize:]\n",
    "    trainImgNames = imageNames[validationSize:]\n",
    "    trainCls = cls[validationSize:]\n",
    "\n",
    "    data_sets.train = DataSet(trainImages, trainLabels, trainImgNames, trainCls)\n",
    "    data_sets.valid = DataSet(validationImages, validationLabels, validationImageNames, validationCls)\n",
    "\n",
    "    return data_sets"
   ]
  },
  {
   "cell_type": "code",
   "execution_count": null,
   "metadata": {
    "colab": {
     "base_uri": "https://localhost:8080/",
     "height": 52
    },
    "colab_type": "code",
    "id": "SDUnt3BJicKz",
    "outputId": "d4a4625e-5807-481c-8f30-37a3b7c41506"
   },
   "outputs": [],
   "source": [
    "validationSize = 0.2\n",
    "imageSize = 128\n",
    "numChannels = 3\n",
    "dataPath = \"/content/drive/My Drive/comic/data\"\n",
    "classes = os.listdir(dataPath)\n",
    "numClasses = len(classes)\n",
    "print(\"Number of classes are : \", classes)\n",
    "print(\"Training data Path : \",dataPath)"
   ]
  },
  {
   "cell_type": "code",
   "execution_count": null,
   "metadata": {
    "colab": {
     "base_uri": "https://localhost:8080/",
     "height": 334
    },
    "colab_type": "code",
    "id": "xmgWr4eijEtb",
    "outputId": "f88ebbf7-12c9-4c22-f3f7-8929b87a59c5"
   },
   "outputs": [],
   "source": [
    "data = readData(dataPath,classes,imageSize,validationSize)\n",
    "\n",
    "X_train,y_train,names_train,cls_train = data.train.getData()\n",
    "X_test,y_test,names_test,cls_test = data.valid.getData()\n",
    "\n",
    "print(\"Training data X : \" , X_train.shape)\n",
    "print(\"Training data y : \" , y_train.shape)\n",
    "print(\"Testing data X : \",X_test.shape)\n",
    "print(\"Testing data y : \",y_test.shape)"
   ]
  },
  {
   "cell_type": "code",
   "execution_count": null,
   "metadata": {
    "colab": {
     "base_uri": "https://localhost:8080/",
     "height": 34
    },
    "colab_type": "code",
    "id": "k8-q-Uhyjg7O",
    "outputId": "cc332403-9bf9-474e-d996-dbeaa8ab20d9"
   },
   "outputs": [],
   "source": [
    "X_train[44].shape"
   ]
  },
  {
   "cell_type": "code",
   "execution_count": null,
   "metadata": {
    "colab": {
     "base_uri": "https://localhost:8080/",
     "height": 286
    },
    "colab_type": "code",
    "id": "fpbWlGT5oqh9",
    "outputId": "e3f101ef-bab2-4a7d-d601-0ce7d52a0b5a"
   },
   "outputs": [],
   "source": [
    "plt.imshow(X_train[444])"
   ]
  },
  {
   "cell_type": "code",
   "execution_count": null,
   "metadata": {
    "colab": {
     "base_uri": "https://localhost:8080/",
     "height": 34
    },
    "colab_type": "code",
    "id": "psusnLPtozzA",
    "outputId": "4ed72c75-87a7-4574-ed13-29982be0acc2"
   },
   "outputs": [],
   "source": [
    "classes[y_train[444]]"
   ]
  },
  {
   "cell_type": "code",
   "execution_count": null,
   "metadata": {
    "colab": {
     "base_uri": "https://localhost:8080/",
     "height": 52
    },
    "colab_type": "code",
    "id": "Yewllk95o9kL",
    "outputId": "d5cfcdfb-ab03-499e-f728-c1092850c12e"
   },
   "outputs": [],
   "source": [
    "#check shapes\n",
    "print(X_train.shape)\n",
    "print(X_test.shape)"
   ]
  },
  {
   "cell_type": "code",
   "execution_count": null,
   "metadata": {
    "colab": {
     "base_uri": "https://localhost:8080/",
     "height": 52
    },
    "colab_type": "code",
    "id": "VzKvOT_QpDld",
    "outputId": "1467bd5e-96ab-496c-d576-698a1f3ca060"
   },
   "outputs": [],
   "source": [
    "print(y_train.shape)\n",
    "print(y_test.shape)"
   ]
  },
  {
   "cell_type": "code",
   "execution_count": null,
   "metadata": {
    "colab": {
     "base_uri": "https://localhost:8080/",
     "height": 34
    },
    "colab_type": "code",
    "id": "UZTM5AGmpYDc",
    "outputId": "53ca1422-9a89-429d-d9d4-5661c9e4c542"
   },
   "outputs": [],
   "source": [
    "type(X_test[0][0][0][0])"
   ]
  },
  {
   "cell_type": "markdown",
   "metadata": {
    "colab_type": "text",
    "id": "n6UMlahdprAz"
   },
   "source": [
    "## Building CNN"
   ]
  },
  {
   "cell_type": "code",
   "execution_count": null,
   "metadata": {
    "colab": {},
    "colab_type": "code",
    "id": "Us2vdVi4psey"
   },
   "outputs": [],
   "source": [
    "model = models.Sequential()\n",
    "model.add(layers.Conv2D(32, (3, 3), activation='relu', input_shape=(128, 128, 3)))\n",
    "model.add(layers.MaxPooling2D((2, 2)))\n",
    "model.add(layers.Conv2D(64, (3, 3), activation='relu'))\n",
    "model.add(layers.MaxPooling2D((2, 2)))\n",
    "model.add(layers.Conv2D(64, (3, 3), activation='relu'))\n",
    "model.add(layers.Flatten())\n",
    "model.add(layers.Dense(64, activation='relu'))\n",
    "model.add(layers.Dense(5, activation='softmax'))"
   ]
  },
  {
   "cell_type": "code",
   "execution_count": null,
   "metadata": {
    "colab": {
     "base_uri": "https://localhost:8080/",
     "height": 439
    },
    "colab_type": "code",
    "id": "aj_ExwwhqGSK",
    "outputId": "09aa2f08-e496-461b-f599-cd8bddfd09d0"
   },
   "outputs": [],
   "source": [
    "model.summary()"
   ]
  },
  {
   "cell_type": "code",
   "execution_count": null,
   "metadata": {
    "colab": {},
    "colab_type": "code",
    "id": "Ijo_MhxgqNUN"
   },
   "outputs": [],
   "source": [
    "model.compile(optimizer='adam',\n",
    "              loss='sparse_categorical_crossentropy',\n",
    "              metrics=['accuracy'])"
   ]
  },
  {
   "cell_type": "code",
   "execution_count": null,
   "metadata": {
    "colab": {},
    "colab_type": "code",
    "id": "jaeHy1ZKqTio"
   },
   "outputs": [],
   "source": [
    "history = model.fit(X_train,y_train, epochs=4, \n",
    "                    validation_data=(X_test,y_test))"
   ]
  },
  {
   "cell_type": "code",
   "execution_count": null,
   "metadata": {
    "colab": {
     "base_uri": "https://localhost:8080/",
     "height": 318
    },
    "colab_type": "code",
    "id": "We7y9gLb6rax",
    "outputId": "a109a735-889f-4078-fc92-732a9d051a98"
   },
   "outputs": [],
   "source": [
    "plt.plot(history.history['accuracy'], label='accuracy')\n",
    "plt.plot(history.history['val_accuracy'], label = 'val_accuracy')\n",
    "plt.xlabel('Epoch')\n",
    "plt.ylabel('Accuracy')\n",
    "plt.ylim([0.5, 1])\n",
    "plt.legend(loc='lower right')\n",
    "\n",
    "test_loss, test_acc = model.evaluate(X_test,  y_test, verbose=2)\n",
    "print(\"Accuracy : {}\".format(test_acc*100))"
   ]
  },
  {
   "cell_type": "code",
   "execution_count": null,
   "metadata": {
    "colab": {},
    "colab_type": "code",
    "id": "dFBOXCQp7vRA"
   },
   "outputs": [],
   "source": [
    "model.save(\"comic.h5\")"
   ]
  },
  {
   "cell_type": "code",
   "execution_count": null,
   "metadata": {
    "colab": {},
    "colab_type": "code",
    "id": "4xX3Ll8z7ykA"
   },
   "outputs": [],
   "source": [
    "!pip install -U -q PyDrive\n",
    "from pydrive.auth import GoogleAuth\n",
    "from pydrive.drive import GoogleDrive \n",
    "from google.colab import auth \n",
    "from oauth2client.client import GoogleCredentials\n",
    "\n",
    "auth.authenticate_user()\n",
    "gauth = GoogleAuth()\n",
    "gauth.credentials = GoogleCredentials.get_application_default()                       \n",
    "drive = GoogleDrive(gauth)"
   ]
  },
  {
   "cell_type": "code",
   "execution_count": null,
   "metadata": {
    "colab": {
     "base_uri": "https://localhost:8080/",
     "height": 34
    },
    "colab_type": "code",
    "id": "Hzop_gzn72iq",
    "outputId": "1f058a41-0856-4c52-efb9-9b55af7e757a"
   },
   "outputs": [],
   "source": [
    "model_file = drive.CreateFile({'title' : 'comic.h5'})                       \n",
    "model_file.SetContentFile('comic.h5')                       \n",
    "model_file.Upload()\n",
    "drive.CreateFile({'id': model_file.get('id')})"
   ]
  },
  {
   "cell_type": "code",
   "execution_count": null,
   "metadata": {
    "colab": {
     "base_uri": "https://localhost:8080/",
     "height": 105
    },
    "colab_type": "code",
    "id": "Qxv5oZiU77jQ",
    "outputId": "76bc004d-84f4-44e2-f783-fb2b8d0af0f4"
   },
   "outputs": [],
   "source": [
    "!ls -l"
   ]
  }
 ],
 "metadata": {
  "accelerator": "GPU",
  "colab": {
   "collapsed_sections": [],
   "name": "Comic Logo.ipynb",
   "provenance": []
  },
  "kernelspec": {
   "display_name": "Python 3",
   "language": "python",
   "name": "python3"
  },
  "language_info": {
   "codemirror_mode": {
    "name": "ipython",
    "version": 3
   },
   "file_extension": ".py",
   "mimetype": "text/x-python",
   "name": "python",
   "nbconvert_exporter": "python",
   "pygments_lexer": "ipython3",
   "version": "3.6.9"
  }
 },
 "nbformat": 4,
 "nbformat_minor": 1
}
